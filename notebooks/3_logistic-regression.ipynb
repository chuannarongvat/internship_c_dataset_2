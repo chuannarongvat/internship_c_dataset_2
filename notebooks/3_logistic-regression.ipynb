{
 "cells": [
  {
   "cell_type": "code",
   "execution_count": 42,
   "metadata": {},
   "outputs": [
    {
     "name": "stdout",
     "output_type": "stream",
     "text": [
      "The autoreload extension is already loaded. To reload it, use:\n",
      "  %reload_ext autoreload\n"
     ]
    }
   ],
   "source": [
    "%load_ext autoreload\n",
    "%autoreload 2"
   ]
  },
  {
   "cell_type": "code",
   "execution_count": 43,
   "metadata": {},
   "outputs": [],
   "source": [
    "import sys\n",
    "sys.path.insert(0, '../src')"
   ]
  },
  {
   "cell_type": "code",
   "execution_count": 44,
   "metadata": {},
   "outputs": [
    {
     "name": "stdout",
     "output_type": "stream",
     "text": [
      "Looking in indexes: https://test.pypi.org/simple/\n",
      "Collecting my-krml_14229898==0.2.5\n",
      "  Obtaining dependency information for my-krml_14229898==0.2.5 from https://test-files.pythonhosted.org/packages/cc/f5/1e01a6a7a72500b1c65e0a890f369ff28109484394ab870d30582c0bdd31/my_krml_14229898-0.2.5-py3-none-any.whl.metadata\n",
      "  Downloading https://test-files.pythonhosted.org/packages/cc/f5/1e01a6a7a72500b1c65e0a890f369ff28109484394ab870d30582c0bdd31/my_krml_14229898-0.2.5-py3-none-any.whl.metadata (1.2 kB)\n",
      "Requirement already satisfied: seaborn<0.13.0,>=0.12.2 in /Users/narongvatchingpayakmon/Projects/Spring2023/internship_c/internship_c_dataset_2/.venv/lib/python3.9/site-packages (from my-krml_14229898==0.2.5) (0.12.2)\n",
      "Requirement already satisfied: numpy!=1.24.0,>=1.17 in /Users/narongvatchingpayakmon/Projects/Spring2023/internship_c/internship_c_dataset_2/.venv/lib/python3.9/site-packages (from seaborn<0.13.0,>=0.12.2->my-krml_14229898==0.2.5) (1.25.2)\n",
      "Requirement already satisfied: pandas>=0.25 in /Users/narongvatchingpayakmon/Projects/Spring2023/internship_c/internship_c_dataset_2/.venv/lib/python3.9/site-packages (from seaborn<0.13.0,>=0.12.2->my-krml_14229898==0.2.5) (2.0.1)\n",
      "Requirement already satisfied: matplotlib!=3.6.1,>=3.1 in /Users/narongvatchingpayakmon/Projects/Spring2023/internship_c/internship_c_dataset_2/.venv/lib/python3.9/site-packages (from seaborn<0.13.0,>=0.12.2->my-krml_14229898==0.2.5) (3.7.2)\n",
      "Requirement already satisfied: contourpy>=1.0.1 in /Users/narongvatchingpayakmon/Projects/Spring2023/internship_c/internship_c_dataset_2/.venv/lib/python3.9/site-packages (from matplotlib!=3.6.1,>=3.1->seaborn<0.13.0,>=0.12.2->my-krml_14229898==0.2.5) (1.1.0)\n",
      "Requirement already satisfied: cycler>=0.10 in /Users/narongvatchingpayakmon/Projects/Spring2023/internship_c/internship_c_dataset_2/.venv/lib/python3.9/site-packages (from matplotlib!=3.6.1,>=3.1->seaborn<0.13.0,>=0.12.2->my-krml_14229898==0.2.5) (0.11.0)\n",
      "Requirement already satisfied: fonttools>=4.22.0 in /Users/narongvatchingpayakmon/Projects/Spring2023/internship_c/internship_c_dataset_2/.venv/lib/python3.9/site-packages (from matplotlib!=3.6.1,>=3.1->seaborn<0.13.0,>=0.12.2->my-krml_14229898==0.2.5) (4.42.1)\n",
      "Requirement already satisfied: kiwisolver>=1.0.1 in /Users/narongvatchingpayakmon/Projects/Spring2023/internship_c/internship_c_dataset_2/.venv/lib/python3.9/site-packages (from matplotlib!=3.6.1,>=3.1->seaborn<0.13.0,>=0.12.2->my-krml_14229898==0.2.5) (1.4.5)\n",
      "Requirement already satisfied: packaging>=20.0 in /Users/narongvatchingpayakmon/Projects/Spring2023/internship_c/internship_c_dataset_2/.venv/lib/python3.9/site-packages (from matplotlib!=3.6.1,>=3.1->seaborn<0.13.0,>=0.12.2->my-krml_14229898==0.2.5) (23.1)\n",
      "Requirement already satisfied: pillow>=6.2.0 in /Users/narongvatchingpayakmon/Projects/Spring2023/internship_c/internship_c_dataset_2/.venv/lib/python3.9/site-packages (from matplotlib!=3.6.1,>=3.1->seaborn<0.13.0,>=0.12.2->my-krml_14229898==0.2.5) (10.0.0)\n",
      "Requirement already satisfied: pyparsing<3.1,>=2.3.1 in /Users/narongvatchingpayakmon/Projects/Spring2023/internship_c/internship_c_dataset_2/.venv/lib/python3.9/site-packages (from matplotlib!=3.6.1,>=3.1->seaborn<0.13.0,>=0.12.2->my-krml_14229898==0.2.5) (3.0.9)\n",
      "Requirement already satisfied: python-dateutil>=2.7 in /Users/narongvatchingpayakmon/Projects/Spring2023/internship_c/internship_c_dataset_2/.venv/lib/python3.9/site-packages (from matplotlib!=3.6.1,>=3.1->seaborn<0.13.0,>=0.12.2->my-krml_14229898==0.2.5) (2.8.2)\n",
      "Requirement already satisfied: importlib-resources>=3.2.0 in /Users/narongvatchingpayakmon/Projects/Spring2023/internship_c/internship_c_dataset_2/.venv/lib/python3.9/site-packages (from matplotlib!=3.6.1,>=3.1->seaborn<0.13.0,>=0.12.2->my-krml_14229898==0.2.5) (6.0.1)\n",
      "Requirement already satisfied: pytz>=2020.1 in /Users/narongvatchingpayakmon/Projects/Spring2023/internship_c/internship_c_dataset_2/.venv/lib/python3.9/site-packages (from pandas>=0.25->seaborn<0.13.0,>=0.12.2->my-krml_14229898==0.2.5) (2023.3.post1)\n",
      "Requirement already satisfied: tzdata>=2022.1 in /Users/narongvatchingpayakmon/Projects/Spring2023/internship_c/internship_c_dataset_2/.venv/lib/python3.9/site-packages (from pandas>=0.25->seaborn<0.13.0,>=0.12.2->my-krml_14229898==0.2.5) (2023.3)\n",
      "Requirement already satisfied: zipp>=3.1.0 in /Users/narongvatchingpayakmon/Projects/Spring2023/internship_c/internship_c_dataset_2/.venv/lib/python3.9/site-packages (from importlib-resources>=3.2.0->matplotlib!=3.6.1,>=3.1->seaborn<0.13.0,>=0.12.2->my-krml_14229898==0.2.5) (3.16.2)\n",
      "Requirement already satisfied: six>=1.5 in /Users/narongvatchingpayakmon/Projects/Spring2023/internship_c/internship_c_dataset_2/.venv/lib/python3.9/site-packages (from python-dateutil>=2.7->matplotlib!=3.6.1,>=3.1->seaborn<0.13.0,>=0.12.2->my-krml_14229898==0.2.5) (1.16.0)\n",
      "Downloading https://test-files.pythonhosted.org/packages/cc/f5/1e01a6a7a72500b1c65e0a890f369ff28109484394ab870d30582c0bdd31/my_krml_14229898-0.2.5-py3-none-any.whl (7.8 kB)\n",
      "Installing collected packages: my-krml_14229898\n",
      "  Attempting uninstall: my-krml_14229898\n",
      "    Found existing installation: my-krml-14229898 0.2.4\n",
      "    Uninstalling my-krml-14229898-0.2.4:\n",
      "      Successfully uninstalled my-krml-14229898-0.2.4\n",
      "Successfully installed my-krml_14229898-0.2.5\n"
     ]
    }
   ],
   "source": [
    "! pip install -i https://test.pypi.org/simple/ my-krml_14229898==0.2.5"
   ]
  },
  {
   "cell_type": "markdown",
   "metadata": {},
   "source": [
    "# Applying CRIPS-DM Methodology to a Business Problem"
   ]
  },
  {
   "cell_type": "markdown",
   "metadata": {},
   "source": [
    "## Dataset 2 - Predicting Customer Churn in the Telecomunication Provider"
   ]
  },
  {
   "cell_type": "markdown",
   "metadata": {},
   "source": [
    "### 3. Modeling"
   ]
  },
  {
   "cell_type": "markdown",
   "metadata": {},
   "source": [
    "#### 3.1 Logistic Regression Model"
   ]
  },
  {
   "cell_type": "markdown",
   "metadata": {},
   "source": [
    "**[3.1]** Import the pandas and numpy packages"
   ]
  },
  {
   "cell_type": "code",
   "execution_count": 45,
   "metadata": {},
   "outputs": [],
   "source": [
    "import pandas as pd\n",
    "import numpy as np"
   ]
  },
  {
   "cell_type": "markdown",
   "metadata": {},
   "source": [
    "**[3.2]** Import the `load_sets` from my custom package"
   ]
  },
  {
   "cell_type": "markdown",
   "metadata": {},
   "source": [
    "#### 1. Load the datset"
   ]
  },
  {
   "cell_type": "code",
   "execution_count": 46,
   "metadata": {},
   "outputs": [],
   "source": [
    "from my_krml_14229898.data.sets import load_sets_smote, load_sets"
   ]
  },
  {
   "cell_type": "markdown",
   "metadata": {},
   "source": [
    "**[3.3]** Load the SMOTE saved sets from `data/processed`"
   ]
  },
  {
   "cell_type": "code",
   "execution_count": 47,
   "metadata": {},
   "outputs": [],
   "source": [
    "X_train_resampled, y_train_resampled = load_sets_smote(path='../data/processed/')"
   ]
  },
  {
   "cell_type": "markdown",
   "metadata": {},
   "source": [
    "**[3.4]** Load the `validating` and `testing` sets from `data/processed`"
   ]
  },
  {
   "cell_type": "code",
   "execution_count": 48,
   "metadata": {},
   "outputs": [],
   "source": [
    "X_train, y_train, X_val, y_val, X_test, y_test = load_sets('../data/processed/')"
   ]
  },
  {
   "cell_type": "markdown",
   "metadata": {},
   "source": [
    "#### 2. Train Logistic Regression Model"
   ]
  },
  {
   "cell_type": "markdown",
   "metadata": {},
   "source": [
    "**[3.5]** Import the Logistic Regression package"
   ]
  },
  {
   "cell_type": "code",
   "execution_count": 49,
   "metadata": {},
   "outputs": [],
   "source": [
    "from sklearn.linear_model import LogisticRegression"
   ]
  },
  {
   "cell_type": "markdown",
   "metadata": {},
   "source": [
    "**[3.6]** Instantiate a `LogisticRegression` class"
   ]
  },
  {
   "cell_type": "code",
   "execution_count": 50,
   "metadata": {},
   "outputs": [],
   "source": [
    "log_reg = LogisticRegression(random_state=8)"
   ]
  },
  {
   "cell_type": "markdown",
   "metadata": {},
   "source": [
    "**[3.7]** Import `fit_asses_classifier` function from the customer package"
   ]
  },
  {
   "cell_type": "code",
   "execution_count": 51,
   "metadata": {},
   "outputs": [],
   "source": [
    "from my_krml_14229898.models.performance import fit_assess_classifier"
   ]
  },
  {
   "cell_type": "markdown",
   "metadata": {},
   "source": [
    "**[3.8]** Set the performance metrics to be used for the model."
   ]
  },
  {
   "cell_type": "code",
   "execution_count": 52,
   "metadata": {},
   "outputs": [],
   "source": [
    "metrics = ['precision', 'recall', 'f1', 'roc_auc']"
   ]
  },
  {
   "cell_type": "markdown",
   "metadata": {},
   "source": [
    "**[3.9]** Fit the model and display the performance on training and validation sets."
   ]
  },
  {
   "cell_type": "code",
   "execution_count": 54,
   "metadata": {},
   "outputs": [
    {
     "name": "stderr",
     "output_type": "stream",
     "text": [
      "/Users/narongvatchingpayakmon/Projects/Spring2023/internship_c/internship_c_dataset_2/.venv/lib/python3.9/site-packages/sklearn/linear_model/_logistic.py:458: ConvergenceWarning: lbfgs failed to converge (status=1):\n",
      "STOP: TOTAL NO. of ITERATIONS REACHED LIMIT.\n",
      "\n",
      "Increase the number of iterations (max_iter) or scale the data as shown in:\n",
      "    https://scikit-learn.org/stable/modules/preprocessing.html\n",
      "Please also refer to the documentation for alternative solver options:\n",
      "    https://scikit-learn.org/stable/modules/linear_model.html#logistic-regression\n",
      "  n_iter_i = _check_optimize_result(\n"
     ]
    },
    {
     "name": "stdout",
     "output_type": "stream",
     "text": [
      "                f1  precision    recall   roc_auc\n",
      "Training  0.847204   0.851912  0.842548  0.848044\n",
      "                  f1  precision    recall   roc_auc\n",
      "Validation  0.618742   0.621134  0.616368  0.735842\n"
     ]
    },
    {
     "data": {
      "image/png": "[encoded data removed]",
      "text/plain": [
       "<Figure size 640x480 with 2 Axes>"
      ]
     },
     "metadata": {},
     "output_type": "display_data"
    },
    {
     "data": {
      "image/png": "[encoded data removed]",
      "text/plain": [
       "<Figure size 640x480 with 2 Axes>"
      ]
     },
     "metadata": {},
     "output_type": "display_data"
    }
   ],
   "source": [
    "log_reg = fit_assess_classifier(log_reg, X_train_resampled, y_train_resampled, X_val, y_val, metrics=metrics)"
   ]
  },
  {
   "cell_type": "markdown",
   "metadata": {},
   "source": [
    "**[4.0]** Import `dump` from `joblib` and save the fitted model into the folder `models` as a file called `logistic-regression.joblib`"
   ]
  },
  {
   "cell_type": "code",
   "execution_count": 56,
   "metadata": {},
   "outputs": [
    {
     "data": {
      "text/plain": [
       "['../models/logistic-regression.joblib']"
      ]
     },
     "execution_count": 56,
     "metadata": {},
     "output_type": "execute_result"
    }
   ],
   "source": [
    "from joblib import dump\n",
    "\n",
    "dump(log_reg, '../models/logistic-regression.joblib')"
   ]
  },
  {
   "cell_type": "markdown",
   "metadata": {},
   "source": [
    "#### 3. Hyperparameter tuning with Hyperopt"
   ]
  },
  {
   "cell_type": "markdown",
   "metadata": {},
   "source": [
    "**[4.1]** Import Trials, STATUS_OK, tpe, hp, fmin from hyperopt package"
   ]
  },
  {
   "cell_type": "code",
   "execution_count": 60,
   "metadata": {},
   "outputs": [],
   "source": [
    "from hyperopt import Trials, STATUS_OK, tpe, hp, fmin\n",
    "rstate = np.random.default_rng(42)"
   ]
  },
  {
   "cell_type": "markdown",
   "metadata": {},
   "source": [
    "**[4.2]** Define the search space for logistic regression hyperparameters\n"
   ]
  },
  {
   "cell_type": "code",
   "execution_count": 88,
   "metadata": {},
   "outputs": [],
   "source": [
    "space = {\n",
    "    'C': hp.loguniform('C', -5, 2),\n",
    "    'penalty': hp.choice('penalty', ['l2', None]),\n",
    "    'max_iter': hp.quniform('max_iter', 100, 5000, 1),\n",
    "    'solver': hp.choice('solver', ['lbfgs', 'newton-cg', 'newton-cholesky', 'sag', 'saga']),\n",
    "    'fit_intercept': hp.choice('fit_intercept', [True, False])\n",
    "}"
   ]
  },
  {
   "cell_type": "code",
   "execution_count": 89,
   "metadata": {},
   "outputs": [],
   "source": [
    "def objective(space):\n",
    "    from sklearn.model_selection import cross_val_score\n",
    "    \n",
    "    log_reg = LogisticRegression(\n",
    "        C=float(space['C']),\n",
    "        penalty=space['penalty'],\n",
    "        max_iter=int(space['max_iter']),\n",
    "        solver=space['solver'],\n",
    "        fit_intercept=space['fit_intercept'],\n",
    "    )\n",
    "    \n",
    "    acc = cross_val_score(log_reg, X_train_resampled, y_train_resampled, cv=5, scoring='recall').mean()\n",
    "    \n",
    "    return {'loss': -acc,'status': STATUS_OK}"
   ]
  },
  {
   "cell_type": "code",
   "execution_count": 90,
   "metadata": {},
   "outputs": [
    {
     "name": "stdout",
     "output_type": "stream",
     "text": [
      "  0%|          | 0/10 [00:00<?, ?trial/s, best loss=?]"
     ]
    },
    {
     "name": "stderr",
     "output_type": "stream",
     "text": [
      "/Users/narongvatchingpayakmon/Projects/Spring2023/internship_c/internship_c_dataset_2/.venv/lib/python3.9/site-packages/sklearn/linear_model/_logistic.py:1181: UserWarning: Setting penalty=None will ignore the C and l1_ratio parameters\n",
      "  warnings.warn(\n",
      "\n",
      "/Users/narongvatchingpayakmon/Projects/Spring2023/internship_c/internship_c_dataset_2/.venv/lib/python3.9/site-packages/sklearn/linear_model/_logistic.py:1181: UserWarning: Setting penalty=None will ignore the C and l1_ratio parameters\n",
      "  warnings.warn(\n",
      "\n",
      "/Users/narongvatchingpayakmon/Projects/Spring2023/internship_c/internship_c_dataset_2/.venv/lib/python3.9/site-packages/sklearn/linear_model/_logistic.py:1181: UserWarning: Setting penalty=None will ignore the C and l1_ratio parameters\n",
      "  warnings.warn(\n",
      "\n",
      "/Users/narongvatchingpayakmon/Projects/Spring2023/internship_c/internship_c_dataset_2/.venv/lib/python3.9/site-packages/sklearn/linear_model/_logistic.py:1181: UserWarning: Setting penalty=None will ignore the C and l1_ratio parameters\n",
      "  warnings.warn(\n",
      "\n",
      "/Users/narongvatchingpayakmon/Projects/Spring2023/internship_c/internship_c_dataset_2/.venv/lib/python3.9/site-packages/sklearn/linear_model/_logistic.py:1181: UserWarning: Setting penalty=None will ignore the C and l1_ratio parameters\n",
      "  warnings.warn(\n",
      "\n"
     ]
    },
    {
     "name": "stdout",
     "output_type": "stream",
     "text": [
      " 20%|██        | 2/10 [00:07<00:25,  3.24s/trial, best loss: -0.8008312812710761]"
     ]
    },
    {
     "name": "stderr",
     "output_type": "stream",
     "text": [
      "/Users/narongvatchingpayakmon/Projects/Spring2023/internship_c/internship_c_dataset_2/.venv/lib/python3.9/site-packages/sklearn/linear_model/_logistic.py:1181: UserWarning: Setting penalty=None will ignore the C and l1_ratio parameters\n",
      "  warnings.warn(\n",
      "\n",
      "/Users/narongvatchingpayakmon/Projects/Spring2023/internship_c/internship_c_dataset_2/.venv/lib/python3.9/site-packages/sklearn/linear_model/_logistic.py:1181: UserWarning: Setting penalty=None will ignore the C and l1_ratio parameters\n",
      "  warnings.warn(\n",
      "\n",
      "/Users/narongvatchingpayakmon/Projects/Spring2023/internship_c/internship_c_dataset_2/.venv/lib/python3.9/site-packages/sklearn/linear_model/_logistic.py:1181: UserWarning: Setting penalty=None will ignore the C and l1_ratio parameters\n",
      "  warnings.warn(\n",
      "\n",
      "/Users/narongvatchingpayakmon/Projects/Spring2023/internship_c/internship_c_dataset_2/.venv/lib/python3.9/site-packages/sklearn/linear_model/_logistic.py:1181: UserWarning: Setting penalty=None will ignore the C and l1_ratio parameters\n",
      "  warnings.warn(\n",
      "\n",
      "/Users/narongvatchingpayakmon/Projects/Spring2023/internship_c/internship_c_dataset_2/.venv/lib/python3.9/site-packages/sklearn/linear_model/_logistic.py:1181: UserWarning: Setting penalty=None will ignore the C and l1_ratio parameters\n",
      "  warnings.warn(\n",
      "\n"
     ]
    },
    {
     "name": "stdout",
     "output_type": "stream",
     "text": [
      " 30%|███       | 3/10 [00:14<00:34,  4.97s/trial, best loss: -0.8008312812710761]"
     ]
    },
    {
     "name": "stderr",
     "output_type": "stream",
     "text": [
      "/Users/narongvatchingpayakmon/Projects/Spring2023/internship_c/internship_c_dataset_2/.venv/lib/python3.9/site-packages/sklearn/linear_model/_logistic.py:1181: UserWarning: Setting penalty=None will ignore the C and l1_ratio parameters\n",
      "  warnings.warn(\n",
      "\n",
      "/Users/narongvatchingpayakmon/Projects/Spring2023/internship_c/internship_c_dataset_2/.venv/lib/python3.9/site-packages/sklearn/linear_model/_logistic.py:1181: UserWarning: Setting penalty=None will ignore the C and l1_ratio parameters\n",
      "  warnings.warn(\n",
      "\n",
      "/Users/narongvatchingpayakmon/Projects/Spring2023/internship_c/internship_c_dataset_2/.venv/lib/python3.9/site-packages/sklearn/linear_model/_logistic.py:1181: UserWarning: Setting penalty=None will ignore the C and l1_ratio parameters\n",
      "  warnings.warn(\n",
      "\n",
      "/Users/narongvatchingpayakmon/Projects/Spring2023/internship_c/internship_c_dataset_2/.venv/lib/python3.9/site-packages/sklearn/linear_model/_logistic.py:1181: UserWarning: Setting penalty=None will ignore the C and l1_ratio parameters\n",
      "  warnings.warn(\n",
      "\n",
      "/Users/narongvatchingpayakmon/Projects/Spring2023/internship_c/internship_c_dataset_2/.venv/lib/python3.9/site-packages/sklearn/linear_model/_logistic.py:1181: UserWarning: Setting penalty=None will ignore the C and l1_ratio parameters\n",
      "  warnings.warn(\n",
      "\n"
     ]
    },
    {
     "name": "stdout",
     "output_type": "stream",
     "text": [
      " 70%|███████   | 7/10 [00:21<00:06,  2.17s/trial, best loss: -0.8198984686648785]"
     ]
    },
    {
     "name": "stderr",
     "output_type": "stream",
     "text": [
      "/Users/narongvatchingpayakmon/Projects/Spring2023/internship_c/internship_c_dataset_2/.venv/lib/python3.9/site-packages/sklearn/linear_model/_logistic.py:1181: UserWarning: Setting penalty=None will ignore the C and l1_ratio parameters\n",
      "  warnings.warn(\n",
      "\n",
      "/Users/narongvatchingpayakmon/Projects/Spring2023/internship_c/internship_c_dataset_2/.venv/lib/python3.9/site-packages/sklearn/linear_model/_logistic.py:1181: UserWarning: Setting penalty=None will ignore the C and l1_ratio parameters\n",
      "  warnings.warn(\n",
      "\n",
      "/Users/narongvatchingpayakmon/Projects/Spring2023/internship_c/internship_c_dataset_2/.venv/lib/python3.9/site-packages/sklearn/linear_model/_logistic.py:1181: UserWarning: Setting penalty=None will ignore the C and l1_ratio parameters\n",
      "  warnings.warn(\n",
      "\n",
      "/Users/narongvatchingpayakmon/Projects/Spring2023/internship_c/internship_c_dataset_2/.venv/lib/python3.9/site-packages/sklearn/linear_model/_logistic.py:1181: UserWarning: Setting penalty=None will ignore the C and l1_ratio parameters\n",
      "  warnings.warn(\n",
      "\n",
      "/Users/narongvatchingpayakmon/Projects/Spring2023/internship_c/internship_c_dataset_2/.venv/lib/python3.9/site-packages/sklearn/linear_model/_sag.py:350: ConvergenceWarning: The max_iter was reached which means the coef_ did not converge\n",
      "  warnings.warn(\n",
      "\n",
      "/Users/narongvatchingpayakmon/Projects/Spring2023/internship_c/internship_c_dataset_2/.venv/lib/python3.9/site-packages/sklearn/linear_model/_logistic.py:1181: UserWarning: Setting penalty=None will ignore the C and l1_ratio parameters\n",
      "  warnings.warn(\n",
      "\n"
     ]
    },
    {
     "name": "stdout",
     "output_type": "stream",
     "text": [
      " 80%|████████  | 8/10 [00:30<00:08,  4.11s/trial, best loss: -0.8198984686648785]"
     ]
    },
    {
     "name": "stderr",
     "output_type": "stream",
     "text": [
      "/Users/narongvatchingpayakmon/Projects/Spring2023/internship_c/internship_c_dataset_2/.venv/lib/python3.9/site-packages/sklearn/linear_model/_logistic.py:1181: UserWarning: Setting penalty=None will ignore the C and l1_ratio parameters\n",
      "  warnings.warn(\n",
      "\n",
      "/Users/narongvatchingpayakmon/Projects/Spring2023/internship_c/internship_c_dataset_2/.venv/lib/python3.9/site-packages/sklearn/linear_model/_sag.py:350: ConvergenceWarning: The max_iter was reached which means the coef_ did not converge\n",
      "  warnings.warn(\n",
      "\n",
      "/Users/narongvatchingpayakmon/Projects/Spring2023/internship_c/internship_c_dataset_2/.venv/lib/python3.9/site-packages/sklearn/linear_model/_logistic.py:1181: UserWarning: Setting penalty=None will ignore the C and l1_ratio parameters\n",
      "  warnings.warn(\n",
      "\n",
      "/Users/narongvatchingpayakmon/Projects/Spring2023/internship_c/internship_c_dataset_2/.venv/lib/python3.9/site-packages/sklearn/linear_model/_sag.py:350: ConvergenceWarning: The max_iter was reached which means the coef_ did not converge\n",
      "  warnings.warn(\n",
      "\n",
      "/Users/narongvatchingpayakmon/Projects/Spring2023/internship_c/internship_c_dataset_2/.venv/lib/python3.9/site-packages/sklearn/linear_model/_logistic.py:1181: UserWarning: Setting penalty=None will ignore the C and l1_ratio parameters\n",
      "  warnings.warn(\n",
      "\n",
      "/Users/narongvatchingpayakmon/Projects/Spring2023/internship_c/internship_c_dataset_2/.venv/lib/python3.9/site-packages/sklearn/linear_model/_sag.py:350: ConvergenceWarning: The max_iter was reached which means the coef_ did not converge\n",
      "  warnings.warn(\n",
      "\n",
      "/Users/narongvatchingpayakmon/Projects/Spring2023/internship_c/internship_c_dataset_2/.venv/lib/python3.9/site-packages/sklearn/linear_model/_logistic.py:1181: UserWarning: Setting penalty=None will ignore the C and l1_ratio parameters\n",
      "  warnings.warn(\n",
      "\n",
      "/Users/narongvatchingpayakmon/Projects/Spring2023/internship_c/internship_c_dataset_2/.venv/lib/python3.9/site-packages/sklearn/linear_model/_sag.py:350: ConvergenceWarning: The max_iter was reached which means the coef_ did not converge\n",
      "  warnings.warn(\n",
      "\n",
      "/Users/narongvatchingpayakmon/Projects/Spring2023/internship_c/internship_c_dataset_2/.venv/lib/python3.9/site-packages/sklearn/linear_model/_logistic.py:1181: UserWarning: Setting penalty=None will ignore the C and l1_ratio parameters\n",
      "  warnings.warn(\n",
      "\n"
     ]
    },
    {
     "name": "stdout",
     "output_type": "stream",
     "text": [
      " 90%|█████████ | 9/10 [00:35<00:04,  4.39s/trial, best loss: -0.8198984686648785]"
     ]
    },
    {
     "name": "stderr",
     "output_type": "stream",
     "text": [
      "/Users/narongvatchingpayakmon/Projects/Spring2023/internship_c/internship_c_dataset_2/.venv/lib/python3.9/site-packages/sklearn/linear_model/_sag.py:350: ConvergenceWarning: The max_iter was reached which means the coef_ did not converge\n",
      "  warnings.warn(\n",
      "\n",
      "/Users/narongvatchingpayakmon/Projects/Spring2023/internship_c/internship_c_dataset_2/.venv/lib/python3.9/site-packages/sklearn/linear_model/_logistic.py:1181: UserWarning: Setting penalty=None will ignore the C and l1_ratio parameters\n",
      "  warnings.warn(\n",
      "\n",
      "/Users/narongvatchingpayakmon/Projects/Spring2023/internship_c/internship_c_dataset_2/.venv/lib/python3.9/site-packages/sklearn/linear_model/_logistic.py:1181: UserWarning: Setting penalty=None will ignore the C and l1_ratio parameters\n",
      "  warnings.warn(\n",
      "\n",
      "/Users/narongvatchingpayakmon/Projects/Spring2023/internship_c/internship_c_dataset_2/.venv/lib/python3.9/site-packages/sklearn/linear_model/_logistic.py:1181: UserWarning: Setting penalty=None will ignore the C and l1_ratio parameters\n",
      "  warnings.warn(\n",
      "\n",
      "/Users/narongvatchingpayakmon/Projects/Spring2023/internship_c/internship_c_dataset_2/.venv/lib/python3.9/site-packages/sklearn/linear_model/_logistic.py:1181: UserWarning: Setting penalty=None will ignore the C and l1_ratio parameters\n",
      "  warnings.warn(\n",
      "\n",
      "/Users/narongvatchingpayakmon/Projects/Spring2023/internship_c/internship_c_dataset_2/.venv/lib/python3.9/site-packages/sklearn/linear_model/_logistic.py:1181: UserWarning: Setting penalty=None will ignore the C and l1_ratio parameters\n",
      "  warnings.warn(\n",
      "\n"
     ]
    },
    {
     "name": "stdout",
     "output_type": "stream",
     "text": [
      "100%|██████████| 10/10 [00:43<00:00,  4.40s/trial, best loss: -0.8198984686648785]\n"
     ]
    }
   ],
   "source": [
    "best = fmin(\n",
    "    fn=objective,\n",
    "    space=space,\n",
    "    algo=tpe.suggest,\n",
    "    max_evals=10,\n",
    "    rstate=rstate,\n",
    ")"
   ]
  },
  {
   "cell_type": "code",
   "execution_count": 91,
   "metadata": {},
   "outputs": [
    {
     "name": "stdout",
     "output_type": "stream",
     "text": [
      "Best parameters:  {'C': 0.44939914927869445, 'fit_intercept': 1, 'max_iter': 4461.0, 'penalty': 0, 'solver': 1}\n"
     ]
    }
   ],
   "source": [
    "print(\"Best parameters: \", best)"
   ]
  },
  {
   "cell_type": "code",
   "execution_count": 98,
   "metadata": {},
   "outputs": [],
   "source": [
    "log_reg2 = LogisticRegression(\n",
    "    C=best['C'],\n",
    "    penalty='l2',\n",
    "    max_iter=4461,\n",
    "    solver='newton-cg',\n",
    "    fit_intercept=best['fit_intercept']\n",
    ")"
   ]
  },
  {
   "cell_type": "code",
   "execution_count": 100,
   "metadata": {},
   "outputs": [
    {
     "data": {
      "text/plain": [
       "{'C': 0.44939914927869445,\n",
       " 'fit_intercept': 1,\n",
       " 'max_iter': 4461.0,\n",
       " 'penalty': 0,\n",
       " 'solver': 1}"
      ]
     },
     "execution_count": 100,
     "metadata": {},
     "output_type": "execute_result"
    }
   ],
   "source": [
    "best"
   ]
  },
  {
   "cell_type": "code",
   "execution_count": 99,
   "metadata": {},
   "outputs": [
    {
     "name": "stderr",
     "output_type": "stream",
     "text": [
      "/Users/narongvatchingpayakmon/Projects/Spring2023/internship_c/internship_c_dataset_2/.venv/lib/python3.9/site-packages/sklearn/utils/_param_validation.py:558: FutureWarning: Passing an int for a boolean parameter is deprecated in version 1.2 and won't be supported anymore in version 1.4.\n",
      "  warnings.warn(\n"
     ]
    },
    {
     "name": "stdout",
     "output_type": "stream",
     "text": [
      "               f1  precision    recall   roc_auc\n",
      "Training  0.84659   0.848377  0.844811  0.846912\n",
      "                  f1  precision    recall   roc_auc\n",
      "Validation  0.624365   0.619647  0.629156  0.740267\n"
     ]
    },
    {
     "data": {
      "image/png": "[encoded data removed]",
      "text/plain": [
       "<Figure size 640x480 with 2 Axes>"
      ]
     },
     "metadata": {},
     "output_type": "display_data"
    },
    {
     "data": {
      "image/png": "[encoded data removed]",
      "text/plain": [
       "<Figure size 640x480 with 2 Axes>"
      ]
     },
     "metadata": {},
     "output_type": "display_data"
    }
   ],
   "source": [
    "log_reg2 = fit_assess_classifier(log_reg2, X_train_resampled, y_train_resampled, X_val, y_val, metrics=metrics)"
   ]
  },
  {
   "cell_type": "code",
   "execution_count": null,
   "metadata": {},
   "outputs": [],
   "source": []
  }
 ],
 "metadata": {
  "kernelspec": {
   "display_name": ".venv",
   "language": "python",
   "name": "python3"
  },
  "language_info": {
   "codemirror_mode": {
    "name": "ipython",
    "version": 3
   },
   "file_extension": ".py",
   "mimetype": "text/x-python",
   "name": "python",
   "nbconvert_exporter": "python",
   "pygments_lexer": "ipython3",
   "version": "3.9.13"
  },
  "orig_nbformat": 4
 },
 "nbformat": 4,
 "nbformat_minor": 2
}
