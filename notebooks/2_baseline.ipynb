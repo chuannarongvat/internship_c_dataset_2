{
 "cells": [
  {
   "cell_type": "code",
   "execution_count": 159,
   "metadata": {},
   "outputs": [
    {
     "name": "stdout",
     "output_type": "stream",
     "text": [
      "The autoreload extension is already loaded. To reload it, use:\n",
      "  %reload_ext autoreload\n"
     ]
    }
   ],
   "source": [
    "%load_ext autoreload\n",
    "%autoreload 2"
   ]
  },
  {
   "cell_type": "code",
   "execution_count": 160,
   "metadata": {},
   "outputs": [],
   "source": [
    "import sys\n",
    "sys.path.insert(0, '../src')"
   ]
  },
  {
   "cell_type": "code",
   "execution_count": 161,
   "metadata": {},
   "outputs": [
    {
     "name": "stdout",
     "output_type": "stream",
     "text": [
      "Looking in indexes: https://test.pypi.org/simple/\n",
      "Requirement already satisfied: my-krml_14229898==0.2.4 in /Users/narongvatchingpayakmon/Projects/Spring2023/internship_c/internship_c_dataset_2/.venv/lib/python3.9/site-packages (0.2.4)\n",
      "Requirement already satisfied: seaborn<0.13.0,>=0.12.2 in /Users/narongvatchingpayakmon/Projects/Spring2023/internship_c/internship_c_dataset_2/.venv/lib/python3.9/site-packages (from my-krml_14229898==0.2.4) (0.12.2)\n",
      "Requirement already satisfied: numpy!=1.24.0,>=1.17 in /Users/narongvatchingpayakmon/Projects/Spring2023/internship_c/internship_c_dataset_2/.venv/lib/python3.9/site-packages (from seaborn<0.13.0,>=0.12.2->my-krml_14229898==0.2.4) (1.25.2)\n",
      "Requirement already satisfied: pandas>=0.25 in /Users/narongvatchingpayakmon/Projects/Spring2023/internship_c/internship_c_dataset_2/.venv/lib/python3.9/site-packages (from seaborn<0.13.0,>=0.12.2->my-krml_14229898==0.2.4) (2.0.1)\n",
      "Requirement already satisfied: matplotlib!=3.6.1,>=3.1 in /Users/narongvatchingpayakmon/Projects/Spring2023/internship_c/internship_c_dataset_2/.venv/lib/python3.9/site-packages (from seaborn<0.13.0,>=0.12.2->my-krml_14229898==0.2.4) (3.7.2)\n",
      "Requirement already satisfied: contourpy>=1.0.1 in /Users/narongvatchingpayakmon/Projects/Spring2023/internship_c/internship_c_dataset_2/.venv/lib/python3.9/site-packages (from matplotlib!=3.6.1,>=3.1->seaborn<0.13.0,>=0.12.2->my-krml_14229898==0.2.4) (1.1.0)\n",
      "Requirement already satisfied: cycler>=0.10 in /Users/narongvatchingpayakmon/Projects/Spring2023/internship_c/internship_c_dataset_2/.venv/lib/python3.9/site-packages (from matplotlib!=3.6.1,>=3.1->seaborn<0.13.0,>=0.12.2->my-krml_14229898==0.2.4) (0.11.0)\n",
      "Requirement already satisfied: fonttools>=4.22.0 in /Users/narongvatchingpayakmon/Projects/Spring2023/internship_c/internship_c_dataset_2/.venv/lib/python3.9/site-packages (from matplotlib!=3.6.1,>=3.1->seaborn<0.13.0,>=0.12.2->my-krml_14229898==0.2.4) (4.42.1)\n",
      "Requirement already satisfied: kiwisolver>=1.0.1 in /Users/narongvatchingpayakmon/Projects/Spring2023/internship_c/internship_c_dataset_2/.venv/lib/python3.9/site-packages (from matplotlib!=3.6.1,>=3.1->seaborn<0.13.0,>=0.12.2->my-krml_14229898==0.2.4) (1.4.5)\n",
      "Requirement already satisfied: packaging>=20.0 in /Users/narongvatchingpayakmon/Projects/Spring2023/internship_c/internship_c_dataset_2/.venv/lib/python3.9/site-packages (from matplotlib!=3.6.1,>=3.1->seaborn<0.13.0,>=0.12.2->my-krml_14229898==0.2.4) (23.1)\n",
      "Requirement already satisfied: pillow>=6.2.0 in /Users/narongvatchingpayakmon/Projects/Spring2023/internship_c/internship_c_dataset_2/.venv/lib/python3.9/site-packages (from matplotlib!=3.6.1,>=3.1->seaborn<0.13.0,>=0.12.2->my-krml_14229898==0.2.4) (10.0.0)\n",
      "Requirement already satisfied: pyparsing<3.1,>=2.3.1 in /Users/narongvatchingpayakmon/Projects/Spring2023/internship_c/internship_c_dataset_2/.venv/lib/python3.9/site-packages (from matplotlib!=3.6.1,>=3.1->seaborn<0.13.0,>=0.12.2->my-krml_14229898==0.2.4) (3.0.9)\n",
      "Requirement already satisfied: python-dateutil>=2.7 in /Users/narongvatchingpayakmon/Projects/Spring2023/internship_c/internship_c_dataset_2/.venv/lib/python3.9/site-packages (from matplotlib!=3.6.1,>=3.1->seaborn<0.13.0,>=0.12.2->my-krml_14229898==0.2.4) (2.8.2)\n",
      "Requirement already satisfied: importlib-resources>=3.2.0 in /Users/narongvatchingpayakmon/Projects/Spring2023/internship_c/internship_c_dataset_2/.venv/lib/python3.9/site-packages (from matplotlib!=3.6.1,>=3.1->seaborn<0.13.0,>=0.12.2->my-krml_14229898==0.2.4) (6.0.1)\n",
      "Requirement already satisfied: pytz>=2020.1 in /Users/narongvatchingpayakmon/Projects/Spring2023/internship_c/internship_c_dataset_2/.venv/lib/python3.9/site-packages (from pandas>=0.25->seaborn<0.13.0,>=0.12.2->my-krml_14229898==0.2.4) (2023.3.post1)\n",
      "Requirement already satisfied: tzdata>=2022.1 in /Users/narongvatchingpayakmon/Projects/Spring2023/internship_c/internship_c_dataset_2/.venv/lib/python3.9/site-packages (from pandas>=0.25->seaborn<0.13.0,>=0.12.2->my-krml_14229898==0.2.4) (2023.3)\n",
      "Requirement already satisfied: zipp>=3.1.0 in /Users/narongvatchingpayakmon/Projects/Spring2023/internship_c/internship_c_dataset_2/.venv/lib/python3.9/site-packages (from importlib-resources>=3.2.0->matplotlib!=3.6.1,>=3.1->seaborn<0.13.0,>=0.12.2->my-krml_14229898==0.2.4) (3.16.2)\n",
      "Requirement already satisfied: six>=1.5 in /Users/narongvatchingpayakmon/Projects/Spring2023/internship_c/internship_c_dataset_2/.venv/lib/python3.9/site-packages (from python-dateutil>=2.7->matplotlib!=3.6.1,>=3.1->seaborn<0.13.0,>=0.12.2->my-krml_14229898==0.2.4) (1.16.0)\n"
     ]
    }
   ],
   "source": [
    "! pip install -i https://test.pypi.org/simple/ my-krml_14229898==0.2.4"
   ]
  },
  {
   "cell_type": "markdown",
   "metadata": {},
   "source": [
    "# Applying CRIPS-DM Methodology to a Business Problem"
   ]
  },
  {
   "cell_type": "markdown",
   "metadata": {},
   "source": [
    "## Dataset 2 - Predicting Customer Churn in the Telecomunication Provider"
   ]
  },
  {
   "cell_type": "markdown",
   "metadata": {},
   "source": [
    "### 3. Modeling"
   ]
  },
  {
   "cell_type": "markdown",
   "metadata": {},
   "source": [
    "#### 0. Baseline Model"
   ]
  },
  {
   "cell_type": "markdown",
   "metadata": {},
   "source": [
    "**[3.1]** Import the pandas and numpy packages"
   ]
  },
  {
   "cell_type": "code",
   "execution_count": 162,
   "metadata": {},
   "outputs": [],
   "source": [
    "import pandas as pd\n",
    "import numpy as np"
   ]
  },
  {
   "cell_type": "markdown",
   "metadata": {},
   "source": [
    "**[3.2]** Import the `load_sets` from my custom package"
   ]
  },
  {
   "cell_type": "code",
   "execution_count": 163,
   "metadata": {},
   "outputs": [],
   "source": [
    "from my_krml_14229898.data.sets import load_sets_smote, load_sets"
   ]
  },
  {
   "cell_type": "markdown",
   "metadata": {},
   "source": [
    "**[3.3]** Load the saved sets from `data/processed`"
   ]
  },
  {
   "cell_type": "code",
   "execution_count": 164,
   "metadata": {},
   "outputs": [],
   "source": [
    "X_train_resampled, y_train_resampled = load_sets_smote(path='../data/processed/')"
   ]
  },
  {
   "cell_type": "markdown",
   "metadata": {},
   "source": [
    "**[3.4]** Import the `NullClassifier` from my customer package"
   ]
  },
  {
   "cell_type": "code",
   "execution_count": 165,
   "metadata": {},
   "outputs": [],
   "source": [
    "from my_krml_14229898.models.null import NullClassifier"
   ]
  },
  {
   "cell_type": "markdown",
   "metadata": {},
   "source": [
    "**[3.5]** Instantiate a `NullClassifier` class and save it to a `base_model`"
   ]
  },
  {
   "cell_type": "code",
   "execution_count": 166,
   "metadata": {},
   "outputs": [],
   "source": [
    "base_model = NullClassifier()"
   ]
  },
  {
   "cell_type": "markdown",
   "metadata": {},
   "source": [
    "**[3.6]** Make a prediction using `fit_predict()` and save the results in a variable called `y_base`"
   ]
  },
  {
   "cell_type": "code",
   "execution_count": 167,
   "metadata": {},
   "outputs": [
    {
     "name": "stdout",
     "output_type": "stream",
     "text": [
      "SMOTE: Number of 0s and 1s in y are equal. Defaulting to 0.\n"
     ]
    }
   ],
   "source": [
    "y_base = base_model.fit_predict(y_train_resampled)"
   ]
  },
  {
   "cell_type": "markdown",
   "metadata": {},
   "source": [
    "**[3.7]** Import the function `print_classifier_scores` from my custome package and display the metric scores. In this case, from the cost analysis, we will use Precision, Recall, F1-Score, and ROC-AUC."
   ]
  },
  {
   "cell_type": "code",
   "execution_count": 168,
   "metadata": {},
   "outputs": [],
   "source": [
    "from my_krml_14229898.models.performance import print_classifier_scores"
   ]
  },
  {
   "cell_type": "code",
   "execution_count": 169,
   "metadata": {},
   "outputs": [],
   "source": [
    "metrics = ['precision', 'recall', 'f1', 'roc_auc']"
   ]
  },
  {
   "cell_type": "code",
   "execution_count": 170,
   "metadata": {},
   "outputs": [
    {
     "name": "stdout",
     "output_type": "stream",
     "text": [
      "           f1  precision  recall\n",
      "Training  0.0        0.0     0.0\n"
     ]
    },
    {
     "name": "stderr",
     "output_type": "stream",
     "text": [
      "/Users/narongvatchingpayakmon/Projects/Spring2023/internship_c/internship_c_dataset_2/.venv/lib/python3.9/site-packages/sklearn/metrics/_classification.py:1344: UndefinedMetricWarning: Precision is ill-defined and being set to 0.0 due to no predicted samples. Use `zero_division` parameter to control this behavior.\n",
      "  _warn_prf(average, modifier, msg_start, len(result))\n"
     ]
    }
   ],
   "source": [
    "print_classifier_scores(y_preds=y_base, y_actuals=y_train_resampled, set_name='Training', metrics=metrics)"
   ]
  }
 ],
 "metadata": {
  "kernelspec": {
   "display_name": ".venv",
   "language": "python",
   "name": "python3"
  },
  "language_info": {
   "codemirror_mode": {
    "name": "ipython",
    "version": 3
   },
   "file_extension": ".py",
   "mimetype": "text/x-python",
   "name": "python",
   "nbconvert_exporter": "python",
   "pygments_lexer": "ipython3",
   "version": "3.9.13"
  },
  "orig_nbformat": 4
 },
 "nbformat": 4,
 "nbformat_minor": 2
}
